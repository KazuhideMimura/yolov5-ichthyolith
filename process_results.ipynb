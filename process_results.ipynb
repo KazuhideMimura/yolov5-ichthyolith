{
 "cells": [
  {
   "cell_type": "code",
   "execution_count": 7,
   "id": "3ca2a1ae",
   "metadata": {},
   "outputs": [],
   "source": [
    "import pandas as pd\n",
    "from glob import glob\n",
    "import cv2\n",
    "import numpy as np\n",
    "from PIL import Image, ImageDraw\n",
    "import os"
   ]
  },
  {
   "cell_type": "code",
   "execution_count": 8,
   "id": "90fab120",
   "metadata": {},
   "outputs": [],
   "source": [
    "import sys\n",
    "sys.path.append('.')"
   ]
  },
  {
   "cell_type": "code",
   "execution_count": 9,
   "id": "e4f4d91b",
   "metadata": {},
   "outputs": [],
   "source": [
    "from utils.plots import Annotator, colors, save_one_box, plot_results"
   ]
  },
  {
   "cell_type": "code",
   "execution_count": 12,
   "id": "ddcdec55",
   "metadata": {},
   "outputs": [],
   "source": [
    "exp_num = 3\n",
    "\n",
    "################\n",
    "if exp_num == 1:\n",
    "    exp_num = ''\n",
    "csv_path = f\"./runs/train/exp{exp_num}/results.csv\"\n",
    "assert os.path.exists(csv_path)\n",
    "plot_results(csv_path)"
   ]
  },
  {
   "cell_type": "code",
   "execution_count": null,
   "id": "e2ffcdaf",
   "metadata": {},
   "outputs": [],
   "source": []
  }
 ],
 "metadata": {
  "kernelspec": {
   "display_name": "Python 3 (ipykernel)",
   "language": "python",
   "name": "python3"
  },
  "language_info": {
   "codemirror_mode": {
    "name": "ipython",
    "version": 3
   },
   "file_extension": ".py",
   "mimetype": "text/x-python",
   "name": "python",
   "nbconvert_exporter": "python",
   "pygments_lexer": "ipython3",
   "version": "3.8.12"
  }
 },
 "nbformat": 4,
 "nbformat_minor": 5
}
